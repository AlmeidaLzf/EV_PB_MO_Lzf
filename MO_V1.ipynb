{
 "cells": [
  {
   "cell_type": "markdown",
   "metadata": {},
   "source": [
    "## Initialization"
   ]
  },
  {
   "cell_type": "code",
   "execution_count": null,
   "metadata": {},
   "outputs": [],
   "source": [
    "import pyomo.environ as pyo\n",
    "from pyomo.opt import SolverFactory\n",
    "from pyomo.core import Var\n",
    "import pyomo.environ as en\n",
    "import pandas as pd\n",
    "# import matplotlib.pyplot as plt\n",
    "import numpy as np"
   ]
  },
  {
   "cell_type": "code",
   "execution_count": null,
   "metadata": {},
   "outputs": [],
   "source": [
    "EXEC_PATH = \"C:\\opt\\ibm\\ILOG\\CPLEX_Studio2211\\cplex\\bin\\x64_win64\\cplex.exe\"\n"
   ]
  },
  {
   "cell_type": "code",
   "execution_count": null,
   "metadata": {},
   "outputs": [],
   "source": [
    "model = pyo.ConcreteModel()\n"
   ]
  },
  {
   "cell_type": "markdown",
   "metadata": {},
   "source": [
    "## Data"
   ]
  },
  {
   "cell_type": "code",
   "execution_count": null,
   "metadata": {},
   "outputs": [],
   "source": [
    "#data\n",
    "data = pd.read_excel('Dados_DEEC.xlsx', None)\n",
    "i = 1\n",
    "t = 96\n",
    "delta_t = 0.25\n",
    "P_ch_max = 10\n",
    "P_dch_max = 10\n",
    "C_IG = data['Price']['C_IG'].tolist()\n",
    "C_EG = data['Price']['C_EG'].tolist()\n",
    "L_plus = data['Price']['L_plus'].tolist()\n",
    "L_min = data['Price']['L_min'].tolist()\n",
    "E_max = data['EV']['E_max'].tolist()\n",
    "E_min = data['EV']['E_min'].tolist()\n",
    "E_dep = data['EV']['E_dep'].tolist()\n",
    "T_arv = data['EV']['T_arv'].tolist()\n",
    "T_dep = data['EV']['T_dep'].tolist()"
   ]
  },
  {
   "cell_type": "markdown",
   "metadata": {},
   "source": [
    "## Sets"
   ]
  },
  {
   "cell_type": "code",
   "execution_count": null,
   "metadata": {},
   "outputs": [],
   "source": [
    "model.I = pyo.RangeSet(i) #index of the vehicles i parked\n",
    "#out of use due to undetermined number of chargers model.N = pyo.RangeSet(n) #index of the chargers installed (not used at the moment)\n",
    "model.T = pyo.RangeSet(t) #index of the time periods (min)"
   ]
  },
  {
   "cell_type": "markdown",
   "metadata": {},
   "source": [
    "## Parameters"
   ]
  },
  {
   "cell_type": "code",
   "execution_count": null,
   "metadata": {},
   "outputs": [],
   "source": [
    "model.C_IG = pyo.Param(model.T, initialize=lambda model, t: C_IG[t-1])\n",
    "model.C_EG = pyo.Param(model.T, initialize=lambda model, t: C_EG[t-1])\n",
    "model.L_plus = pyo.Param(model.T, initialize=lambda model, t: L_plus[t-1])\n",
    "model.L_min = pyo.Param(model.T, initialize=lambda model, t: L_min[t-1])\n",
    "model.E_dep = pyo.Param(model.I, initialize=lambda model, i: E_dep[i-1])\n",
    "model.E_max = pyo.Param(model.I, initialize=lambda model, i:E_max[i-1])\n",
    "model.E_min = pyo.Param(model.I, initialize=lambda model, i:E_min[i-1])\n",
    "model.P_ch_max = pyo.Param(initialize=P_ch_max)\n",
    "model.P_dch_max = pyo.Param(initialize=P_dch_max)\n",
    "model.T_arv = pyo.Param(model.I, initialize=lambda model, i: T_arv[i-1])\n",
    "model.T_dep = pyo.Param(model.I, initialize=lambda model, i: T_dep[i-1])\n",
    "model.delta_t = pyo.Param(initialize=delta_t)\n",
    "\n"
   ]
  },
  {
   "cell_type": "markdown",
   "metadata": {},
   "source": [
    "## Variables"
   ]
  },
  {
   "cell_type": "code",
   "execution_count": null,
   "metadata": {},
   "outputs": [],
   "source": [
    "#Binary variables\n",
    "model.x = pyo.Var(model.I, model.T, domain=pyo.Binary)\n",
    "model.y = pyo.Var(model.I, model.T, domain=pyo.Binary)\n",
    "\n",
    "#Non-binary variables\n",
    "model.e = pyo.Var(model.I, model.T, domain=pyo.NonNegativeReals)\n",
    "model.p_ch_ev = pyo.Var(model.I, model.T, domain=pyo.NonNegativeReals)\n",
    "model.p_dch_ev = pyo.Var(model.I, model.T, domain=pyo.NonNegativeReals)\n",
    "model.p_ev_plus = pyo.Var(model.T, domain=pyo.NonNegativeReals)\n",
    "model.p_ev_minus = pyo.Var(model.T, domain=pyo.NonNegativeReals)\n"
   ]
  },
  {
   "cell_type": "markdown",
   "metadata": {},
   "source": [
    "## Constraints"
   ]
  },
  {
   "cell_type": "code",
   "execution_count": null,
   "metadata": {},
   "outputs": [],
   "source": [
    "model.constraints = pyo.ConstraintList()\n",
    "\n",
    "#Constraint 1\n",
    "for i in model.I:\n",
    "    for t in model.T:\n",
    "        model.constraints.add(model.x[i,t]+model.y[i,t]==1)\n",
    "\n",
    "#Constraint 2\n",
    "for t in model.T:\n",
    "    model.constraints.add(sum(model.delta_t*model.P_ch_max*model.x[i,t] for i in model.I)==model.p_ev_plus[t])\n",
    "\n",
    "#Constraint 3\n",
    "for t in model.T:\n",
    "    model.constraints.add(sum(model.delta_t*model.P_dch_max*model.y[i,t] for i in model.I)==model.p_ev_minus[t])\n",
    "\n",
    "#Constraint 4\n",
    "for i in model.I:\n",
    "    for t in range(model.T_arv[i], model.T_dep[i]-1):\n",
    "        model.constraints.add(model.e[i,t+1] == model.e[i,t] + model.delta_t*(model.P_ch_max*model.x[i,t] - model.P_dch_max*model.y[i,t]))\n",
    "\n",
    "#Constraint 5\n",
    "for i in model.I:\n",
    "        model.constraints.add(model.e[i,model.T_dep[i]]==model.E_dep[i])\n",
    "\n",
    "#Constraint 6\n",
    "for i in model.I:\n",
    "    for t in model.T:\n",
    "        model.constraints.add(model.E_min[i] <= model.e[i,t])\n",
    "        model.constraints.add(model.e[i,t] <= model.E_max[i])\n",
    "\n",
    "'''\n",
    "#Constraint 7\n",
    "for i in model.I:\n",
    "    model.constraints.add(0 <= model.p_ch_ev[i,t])\n",
    "    model.constraints.add(model.p_ch_ev[i,t] <= model.P_ch_max)\n",
    "\n",
    "for t in model.T:\n",
    "    model.constraints.add(0 <= model.p_ch_ev[i,t])\n",
    "    model.constraints.add(model.p_ch_ev[i,t] <= model.P_ch_max)\n",
    "\n",
    "#Constraint 8\n",
    "for i in model.I:\n",
    "    model.constraints.add(0 <= model.p_dch_ev[i,t])\n",
    "    model.constraints.add(model.p_dch_ev[i,t] <= model.P_dch_max)\n",
    "\n",
    "for t in model.T:\n",
    "    model.constraints.add(0 <= model.p_dch_ev[i,t])\n",
    "    model.constraints.add(model.p_dch_ev[i,t] <= model.P_dch_max)\n",
    "'''"
   ]
  },
  {
   "cell_type": "markdown",
   "metadata": {},
   "source": [
    "## Objective Function"
   ]
  },
  {
   "cell_type": "code",
   "execution_count": null,
   "metadata": {},
   "outputs": [],
   "source": [
    "def rule_obj(mod):\n",
    "    return mod.delta_t*sum(mod.C_IG[t]*(mod.L_plus[t]+mod.p_ev_plus[t])+mod.C_EG[t]*(mod.L_minus[t]-mod.p_ev_minus[t])for t in mod.T)\n",
    "model.obj = pyo.Objective(rule = rule_obj, sense = pyo.minimize)"
   ]
  },
  {
   "cell_type": "markdown",
   "metadata": {},
   "source": [
    "## Solvers"
   ]
  },
  {
   "cell_type": "code",
   "execution_count": null,
   "metadata": {},
   "outputs": [],
   "source": [
    "# Create a solver instance and set executable path\n",
    "opt = pyo.SolverFactory('cplex')\n",
    "# Solve the model\n",
    "results = opt.solve(model, tee=True)\n",
    "# Print solution status\n",
    "print(\"Solver Status:\", results.solver.status)\n",
    "print(\"Termination Condition:\", results.solver.termination_condition)"
   ]
  }
 ],
 "metadata": {
  "kernelspec": {
   "display_name": "Python 3",
   "language": "python",
   "name": "python3"
  },
  "language_info": {
   "codemirror_mode": {
    "name": "ipython",
    "version": 3
   },
   "file_extension": ".py",
   "mimetype": "text/x-python",
   "name": "python",
   "nbconvert_exporter": "python",
   "pygments_lexer": "ipython3",
   "version": "3.10.9"
  },
  "orig_nbformat": 4
 },
 "nbformat": 4,
 "nbformat_minor": 2
}
