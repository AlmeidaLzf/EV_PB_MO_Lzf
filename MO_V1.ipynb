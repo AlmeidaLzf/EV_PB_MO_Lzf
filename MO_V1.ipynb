{
 "cells": [
  {
   "cell_type": "markdown",
   "metadata": {},
   "source": [
    "## Initialization"
   ]
  },
  {
   "cell_type": "code",
   "execution_count": null,
   "metadata": {},
   "outputs": [],
   "source": [
    "import pyomo.environ as pyo\n",
    "from pyomo.opt import SolverFactory\n",
    "# import pandas as pd\n",
    "# import matplotlib.pyplot as plt\n",
    "# import numpy as np"
   ]
  },
  {
   "cell_type": "code",
   "execution_count": null,
   "metadata": {},
   "outputs": [],
   "source": [
    "EXEC_PATH = 'C:\\Program Files\\IBM\\ILOG\\CPLEX_Studio2211\\cplex\\bin\\x64_win64\\cplex.exe'"
   ]
  },
  {
   "cell_type": "code",
   "execution_count": null,
   "metadata": {},
   "outputs": [],
   "source": [
    "model = pyo.ConcreteModel()"
   ]
  },
  {
   "cell_type": "markdown",
   "metadata": {},
   "source": [
    "## Data"
   ]
  },
  {
   "cell_type": "code",
   "execution_count": null,
   "metadata": {},
   "outputs": [],
   "source": [
    "#data\n",
    "i = 5\n",
    "t = 96\n",
    "delta_t = 0.25\n",
    "P_ch_max = 10\n",
    "P_dch_max = 10"
   ]
  },
  {
   "cell_type": "markdown",
   "metadata": {},
   "source": [
    "## Sets"
   ]
  },
  {
   "cell_type": "code",
   "execution_count": null,
   "metadata": {},
   "outputs": [],
   "source": [
    "model.I = pyo.RangeSet(i) #index of the vehicles i parked\n",
    "#out of use due to undetermined number of chargers model.N = pyo.RangeSet(n) #index of the chargers installed (not used at the moment)\n",
    "model.T = pyo.RangeSet(t) #index of the time periods (min)"
   ]
  },
  {
   "cell_type": "markdown",
   "metadata": {},
   "source": [
    "## Parameters"
   ]
  },
  {
   "cell_type": "code",
   "execution_count": null,
   "metadata": {},
   "outputs": [],
   "source": [
    "model.C_IG = pyo.Param(initialize=C_IG)\n",
    "model.C_EG = pyo.Param(initialize=C_EG)\n",
    "model.E_dep = pyo.Param(model.I, initialize=lambda model, i: E_dep[i-1])\n",
    "model.E_max = pyo.Param(initialize=E_max)\n",
    "model.E_min = pyo.Param(initialize=E_min)\n",
    "model.P_ch_max = pyo.Param(initialize=P_ch_max)\n",
    "model.P_dch_max = pyo.Param(initialize=P_dch_max)\n",
    "model.P_PBN_plus = pyo.Param(model.T, initialize=lambda model, t: P_PBN_plus[t-1])\n",
    "model.P_PBN_minus = pyo.Param(model.T, initialize=lambda model, t: P_PBN_minus[t-1])\n",
    "model.T_arv = pyo.Param(model.I, initialize=lambda model, i: T_arv[i-1])\n",
    "model.T_dep = pyo.Param(model.I, initialize=lambda model, i: T_dep[i-1])\n",
    "model.delta_t = pyo.Param(initialize=delta_t)\n"
   ]
  },
  {
   "cell_type": "markdown",
   "metadata": {},
   "source": [
    "## Variables"
   ]
  },
  {
   "cell_type": "code",
   "execution_count": null,
   "metadata": {},
   "outputs": [],
   "source": [
    "#Binary variables\n",
    "\n",
    "model.x = pyo.Var(model.T, model.I, domain=pyo.Binary)\n",
    "model.y = pyo.Var(model.T, model.I, domain=pyo.Binary)\n",
    "\n",
    "#Non-binary variables\n",
    "\n",
    "model.e = pyo.Var(model.T, model.I, domain=pyo.NonNegativeReals)\n",
    "model.p_ch_ev = pyo.Var(model.T, model.I, domain=pyo.NonNegativeReals)\n",
    "model.p_dch_ev = pyo.Var(model.T, model.I, domain=pyo.NonNegativeReals)\n",
    "model.p_ev_plus = pyo.Var(model.T, domain=pyo.NonNegativeReals)\n",
    "model.p_ev_minus = pyo.Var(model.T, domain=pyo.NonNegativeReals)\n"
   ]
  },
  {
   "cell_type": "markdown",
   "metadata": {},
   "source": [
    "## Objective Function"
   ]
  },
  {
   "cell_type": "code",
   "execution_count": null,
   "metadata": {},
   "outputs": [],
   "source": [
    "def rule_obj(mod):\n",
    "    return delta_t*sum(mod.C_IG*(mod.P_PBN_plus[t]+mod.p_ev_plus[t])+mod.C_EG*(mod.P_PBN_minus[t]+mod.p_ev_minus[t])for t in mod.T)\n",
    "model.obj = pyo.Objective(rule = rule_obj, sense = pyo.minimize)"
   ]
  },
  {
   "cell_type": "markdown",
   "metadata": {},
   "source": [
    "## Constraints"
   ]
  },
  {
   "cell_type": "code",
   "execution_count": null,
   "metadata": {},
   "outputs": [],
   "source": [
    "model.constraints = pyo.ConstraintList()\n",
    "\n",
    "#Constraint 1\n",
    "for t in model.T:\n",
    "    for i in model.I:\n",
    "        model.constraints.add(model.x[t,i]+model.y[t,i]==1)\n",
    "\n",
    "#Constraint 2\n",
    "for t in model.T:\n",
    "    model.constraints.add(sum(model.p_ch_ev[t,i]*model.x[t,i] for i in model.I)==model.p_ev_plus[t])\n",
    "\n",
    "#Constraint 3\n",
    "for t in model.T:\n",
    "    model.constraints.add(sum(model.p_dch_ev[t,i]*model.y[t,i] for i in model.I)==model.p_ev_minus[t])\n",
    "\n",
    "#Constraint 4\n",
    "for i in model.I:\n",
    "    for t in range(model.T_arv[i], model.T_dep[i]-1):\n",
    "        model.constraints.add(model.e[t+1,i]== model.e[t,i]+delta_t*(model.p_ch_ev[t,i]*model.x[t,i]-model.p_dch_ev[t,i]*model.y[t,i]))\n",
    "\n",
    "#Constraint 5\n",
    "for i in model.I:\n",
    "    for t in model.T_dep[i]:\n",
    "        model.constraints.add(model.e[t,i]==model.E_dep[i])\n",
    "\n",
    "#Constraint 6\n",
    "for i in model.I:\n",
    "    for t in model.T:\n",
    "        model.constraints.add(model.E_min<=model.e[t,i])\n",
    "        model.constraints.add(model.e[t,i]<=model.E_max)\n",
    "\n",
    "#Constraint 7\n",
    "for i in model.I:\n",
    "    for t in model.T:\n",
    "        model.constraints.add(0<=model.p_ch_ev)\n",
    "        model.constraints.add(model.p_ch_ev<=model.P_ch_max)\n",
    "\n",
    "#Constraint 8\n",
    "for i in model.I:\n",
    "    for t in model.T:\n",
    "        model.constraints.add(0<=model.p_dch_ev)\n",
    "        model.constraints.add(model.p_dch_ev<=model.P_dch_max)"
   ]
  },
  {
   "cell_type": "markdown",
   "metadata": {},
   "source": [
    "## Solvers"
   ]
  },
  {
   "cell_type": "code",
   "execution_count": null,
   "metadata": {},
   "outputs": [],
   "source": [
    "\n",
    "#CPLEX\n",
    "opt_cplex = pyo.SolverFactory('cplex',executable=EXEC_PATH)\n",
    "opt_cplex.options['timelimit'] = 3600\n",
    "opt_cplex.options['mipgap'] = 0.01\n",
    "results_cplex = opt_cplex.solve(model,tee=False,report_timing=True)\n",
    "print(model.obj())\n",
    "\n",
    "#Gurobi"
   ]
  }
 ],
 "metadata": {
  "language_info": {
   "name": "python"
  },
  "orig_nbformat": 4
 },
 "nbformat": 4,
 "nbformat_minor": 2
}
